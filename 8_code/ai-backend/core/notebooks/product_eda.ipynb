{
 "cells": [
  {
   "cell_type": "code",
   "execution_count": 1,
   "metadata": {},
   "outputs": [],
   "source": [
    "%load_ext autoreload\n",
    "%autoreload 2"
   ]
  },
  {
   "cell_type": "code",
   "execution_count": 2,
   "metadata": {},
   "outputs": [],
   "source": [
    "import pandas as pd"
   ]
  },
  {
   "cell_type": "markdown",
   "metadata": {},
   "source": [
    "# Product EDA and Preprocessing\n"
   ]
  },
  {
   "cell_type": "code",
   "execution_count": 3,
   "metadata": {},
   "outputs": [],
   "source": [
    "# Prepare the order data\n",
    "order_data_df = pd.read_csv(\"../data/synthetic-orders-data.csv\")\n",
    "order_data_df.columns = [i.strip() for i in order_data_df.columns]\n",
    "# Prepare the product data\n",
    "product_data_df = pd.read_csv(\"../data/synthetic-product-data.csv\")"
   ]
  },
  {
   "cell_type": "code",
   "execution_count": 4,
   "metadata": {},
   "outputs": [],
   "source": [
    "product_data_df.columns = [i.strip() for i in product_data_df.columns]"
   ]
  },
  {
   "cell_type": "code",
   "execution_count": 5,
   "metadata": {},
   "outputs": [
    {
     "name": "stdout",
     "output_type": "stream",
     "text": [
      "The Sony Xperia XA2 Ultra Black features a 6-inch Full HD display, 32GB of internal storage, and supports 4G connectivity for seamless mobile experience.\n",
      "----------------------------------------------------------------------------------------------------\n"
     ]
    }
   ],
   "source": [
    "for desc in product_data_df[product_data_df['Cluster Label'].apply(lambda x: \"XA2\" in x)]['Description']:\n",
    "    print(desc)\n",
    "    print(\"-\"*100)"
   ]
  },
  {
   "cell_type": "code",
   "execution_count": 6,
   "metadata": {},
   "outputs": [
    {
     "name": "stdout",
     "output_type": "stream",
     "text": [
      "The Pentax K-1 Body is a weather-sealed digital single-lens reflex camera featuring an 24-70mm f/2.8 ED SDM WR zoom lens.\n",
      "----------------------------------------------------------------------------------------------------\n",
      "The Pentax K-1 Digital SLR Camera Body features a full-frame CMOS sensor and 1.25x crop factor, allowing for high-quality stills and video capture.\n",
      "----------------------------------------------------------------------------------------------------\n",
      "This is a 12-megapixel full-frame SLR camera featuring a 28-105mm lens, ideal for capturing high-quality images.\n",
      "----------------------------------------------------------------------------------------------------\n"
     ]
    }
   ],
   "source": [
    "for desc in product_data_df[product_data_df['Cluster Label'].apply(lambda x: \"Pentax K-1\" in x)]['Description']:\n",
    "    print(desc)\n",
    "    print(\"-\"*100)"
   ]
  },
  {
   "cell_type": "markdown",
   "metadata": {},
   "source": [
    "# Exploratory Data Analysis\n",
    "\n",
    "## Product Data\n",
    "\n",
    "* There are 2190 unique products (Cluster ID)\n",
    "    * This maps directly to Cluster Label\n",
    "* There are 182 unique merchants (Merchant ID)\n",
    "     * Merchant name is not available\n",
    "     * Do we want to make up merchant names?\n",
    "* There are 2475 product IDs (Product ID)\n",
    "    * This implies that some products are sold by multiple merchants\n",
    "* There are 2457 product names (Product Name)\n",
    "    * Hence, many given cluster labels have different product names, even though they are the same product\n",
    "* There are 10 categories, most are \"Fridge Freezers\"\n",
    "    * This maps directly to Category ID\n",
    "* Some prices (150 total) are 0, even though there is stock\n",
    "* Some products only have 1 or 0 in stock (15 total)\n",
    "* Ratings are between 2 and 5\n",
    "\n",
    "\n",
    "## Order Data\n",
    "\n",
    "* ReturnEligible is a bool\n",
    "* OrderStatus is one of \"Delivered\", \"Cancelled\", \"Pending\", \"Shipped\"\n",
    "* ShippingDate is between 2024-09-29 12:24:37.765490 and 2024-10-29 12:24:37.765490"
   ]
  },
  {
   "cell_type": "code",
   "execution_count": null,
   "metadata": {},
   "outputs": [],
   "source": [
    "from ydata_profiling import ProfileReport\n",
    "\n",
    "profile = ProfileReport(product_data_df, title=\"Profiling Product Data Report\")\n",
    "profile.to_file(\"../data/product_data_report.html\")"
   ]
  },
  {
   "cell_type": "code",
   "execution_count": null,
   "metadata": {},
   "outputs": [],
   "source": [
    "profile = ProfileReport(order_data_df, title=\"Profiling Order Data Report\")\n",
    "profile.to_file(\"../data/order_data_report.html\")\n"
   ]
  },
  {
   "cell_type": "code",
   "execution_count": null,
   "metadata": {},
   "outputs": [],
   "source": []
  }
 ],
 "metadata": {
  "kernelspec": {
   "display_name": "katas",
   "language": "python",
   "name": "python3"
  },
  "language_info": {
   "codemirror_mode": {
    "name": "ipython",
    "version": 3
   },
   "file_extension": ".py",
   "mimetype": "text/x-python",
   "name": "python",
   "nbconvert_exporter": "python",
   "pygments_lexer": "ipython3",
   "version": "3.11.10"
  }
 },
 "nbformat": 4,
 "nbformat_minor": 2
}
